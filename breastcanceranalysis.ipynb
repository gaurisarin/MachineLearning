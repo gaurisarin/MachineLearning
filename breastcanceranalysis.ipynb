{
 "cells": [
  {
   "cell_type": "code",
   "execution_count": 3,
   "metadata": {},
   "outputs": [
    {
     "name": "stdout",
     "output_type": "stream",
     "text": [
      "(698, 11)\n"
     ]
    }
   ],
   "source": [
    "import pandas as pd \n",
    "\n",
    "\n",
    "df = pd.read_csv('breast_cancer.csv')\n",
    "df.head()\n",
    "print(df.shape)"
   ]
  },
  {
   "cell_type": "code",
   "execution_count": 4,
   "metadata": {},
   "outputs": [
    {
     "name": "stdout",
     "output_type": "stream",
     "text": [
      "(683, 10)\n"
     ]
    }
   ],
   "source": [
    "#The first column (0) is a sample identifier. It can be dropped.\n",
    "df = pd.read_csv('breast_cancer.csv', header=None)\n",
    "df = df.drop(df.columns[0], axis=1)\n",
    "\n",
    "\n",
    "df.columns = ['thick', 'size_uni', 'shape_uni', 'marg_adh', 'size_sec', 'bare_nuc', 'bland_chromo', 'norm_chromo', 'mitosis', 'outcome']\n",
    "\n",
    "#Remove any rows that contain missing values, denoted by a ‘?’ character.\n",
    "#Cast all remaining values in your table to integers.\n",
    "df = df[df.bare_nuc != '?']\n",
    "df = df.astype(int)\n",
    "\n",
    "#Change the outcome values from 2 (benign) to 0, and from 4 (malignant) to 1. \n",
    "df.outcome = df.outcome.replace(2, 0)\n",
    "df.outcome = df.outcome.replace(4, 1)\n",
    "\n",
    "df.head()\n",
    "print(df.shape)"
   ]
  },
  {
   "cell_type": "code",
   "execution_count": 5,
   "metadata": {},
   "outputs": [],
   "source": [
    "\n",
    "import numpy as np\n",
    "def metrics(actuals, predictions):\n",
    "    tp = 0\n",
    "    tn = 0\n",
    "    fp = 0\n",
    "    fn = 0\n",
    "    for i in range(len(actuals)):\n",
    "        if actuals[i] == 1 and predictions[i] == 1:\n",
    "            tp += 1\n",
    "        elif actuals[i] == 1 and predictions[i] == 0:\n",
    "            fn += 1\n",
    "        elif actuals[i] == 0 and predictions[i] == 1:\n",
    "            fp += 1\n",
    "        elif actuals[i] == 0 and predictions[i] == 0:\n",
    "            tn += 1\n",
    "\n",
    "    acc = (tp + tn) / (tp + tn + fp + fn)\n",
    "    sens = tp / (tp + fn)\n",
    "    spec = tn / (tn + fp)\n",
    "    prec = tp / (tp + fp)\n",
    "    f1 = 2 * (prec * sens) / (prec + sens)\n",
    "\n",
    "    return acc, sens, spec, prec, f1\n",
    "    \n",
    "\n",
    "    \n",
    "\n",
    "#Implement a function predict(X, w) where X is a 2-dimensional array of attributes values\n",
    "#and w = {w0, w1, ...w9} are the bias and coefficients (weights) of our model. The function\n",
    "#returns a series of predictions (1 or 0), one value for each row in the table of attributes.\n",
    "\n",
    "def predict(X, w):\n",
    "    predictions = []\n",
    "    bias = w[0]\n",
    "    weights = w[1:]\n",
    "    for i in range(X.shape[0]):\n",
    "        z = bias + np.dot(X[i], weights)\n",
    "        if z >= 0:\n",
    "            predictions.append(1)\n",
    "        else:\n",
    "            predictions.append(0)\n",
    "    return predictions\n",
    "\n",
    "def random_weights(x):\n",
    "    return [np.random.uniform(-1, 1) for i in range(x)]\n",
    "\n",
    "# Implement the perceptron algorithm: perceptron(data, alpha, epochs).\n",
    "#Your algorithm should receive a data table, the learning rate, and the number of epochs\n",
    "#(iterations). The function returns the weight vector, w. When running the algorithm, I\n",
    "#recommend you try setting alpha=0.0001, and epochs=1000.\n",
    "def perceptron(data, learning_rate, epochs):\n",
    "    weights = random_weights(data.shape[1])\n",
    "    mpe_list = []\n",
    "    acc_list = []\n",
    "    for i in range(epochs):\n",
    "        mpe = 0\n",
    "        error = 0\n",
    "        for row in data:\n",
    "            features = row[:-1]\n",
    "            label = row[-1]\n",
    "            z = weights[0] + np.dot(weights[1:], features)\n",
    "            if z >= 0:\n",
    "                y_pred = 1\n",
    "            else:\n",
    "                y_pred = 0\n",
    "            weights[1:] += learning_rate * (label - y_pred) * features\n",
    "            weights[0] += learning_rate * (label - y_pred)\n",
    "            error += np.abs(label - y_pred) * np.abs(z)\n",
    "        mpe = error / len(data)\n",
    "        mpe_list.append(mpe)\n",
    "        y_pred = predict(data[:, :-1], weights)\n",
    "        acc = metrics(data[:, -1], y_pred)[0]\n",
    "        acc_list.append(acc)\n",
    "    return weights, mpe_list, acc_list\n",
    "\n",
    "\n",
    "\n",
    "    \n"
   ]
  },
  {
   "cell_type": "code",
   "execution_count": 6,
   "metadata": {},
   "outputs": [
    {
     "name": "stdout",
     "output_type": "stream",
     "text": [
      "Accuracy:  0.9562043795620438\n",
      "Sensitivity:  0.94\n",
      "Specificity:  0.9655172413793104\n",
      "Precision:  0.94\n",
      "F1-score:  0.94\n"
     ]
    }
   ],
   "source": [
    "#Report the five metrics for your model when run against the Wisconsin Breast Cancer\n",
    "#dataset provided. \n",
    " \n",
    "from sklearn.preprocessing import StandardScaler\n",
    "\n",
    "\n",
    "scaler = StandardScaler()\n",
    "df.iloc[:, :-1] = scaler.fit_transform(df.iloc[:, :-1])\n",
    "\n",
    "train_data = df.sample(frac=0.8, random_state=0)\n",
    "test_data = df.drop(train_data.index)\n",
    "\n",
    "train_X = train_data.iloc[:, :-1].values\n",
    "train_y = train_data.iloc[:, -1].values\n",
    "test_X = test_data.iloc[:, :-1].values\n",
    "test_y = test_data.iloc[:, -1].values\n",
    "\n",
    "w, mpe_list, acc_list = perceptron(train_data.values, 0.0001, 1000)\n",
    "\n",
    "ypred = predict(test_X, w)\n",
    "\n",
    "accuracy, sensitivity, specificity, precision, f1 = metrics(test_y, ypred)\n",
    "\n",
    "print('Accuracy: ', accuracy)\n",
    "print('Sensitivity: ', sensitivity)\n",
    "print('Specificity: ', specificity)\n",
    "print('Precision: ', precision)\n",
    "print('F1-score: ', f1)\n"
   ]
  },
  {
   "cell_type": "code",
   "execution_count": 46,
   "metadata": {},
   "outputs": [
    {
     "data": {
      "image/png": "[encoded data removed]",
      "text/plain": [
       "<Figure size 432x288 with 1 Axes>"
      ]
     },
     "metadata": {
      "needs_background": "light"
     },
     "output_type": "display_data"
    },
    {
     "data": {
      "image/png": "[encoded data removed]",
      "text/plain": [
       "<Figure size 432x288 with 1 Axes>"
      ]
     },
     "metadata": {
      "needs_background": "light"
     },
     "output_type": "display_data"
    }
   ],
   "source": [
    "#Plot the model performance (MPE) over the epochs.\n",
    "#Plot the model accuracy over the epochs.\n",
    "import matplotlib.pyplot as plt\n",
    "\n",
    "plt.plot(mpe_list)\n",
    "plt.title('Model Performance over Epochs')\n",
    "plt.xlabel('Epochs')\n",
    "plt.ylabel('MPE')\n",
    "plt.show()\n",
    "\n",
    "plt.plot(acc_list)\n",
    "plt.title('Model Accuracy over Epochs')\n",
    "plt.xlabel('Epochs')\n",
    "plt.ylabel('Accuracy')\n",
    "plt.show()"
   ]
  },
  {
   "cell_type": "code",
   "execution_count": 47,
   "metadata": {},
   "outputs": [],
   "source": [
    "#A perceptron model that uses all 9 attributes is quite complex. Can we do better?\n",
    "#Repeatedly rerun your perceptron algorithm on random subsets of the feature\n",
    "#attributes. For each model, record which features you selected and your five scores.\n",
    "#The resulting table of results will look something like this:\n",
    "\n",
    "#0, 0, 1, 0, 0, 1, 1, 1, 0, 0.9488, 0.8870, 0.9820, 0.9636, 0.9237\n",
    "#0, 0, 1, 0, 0, 1, 1, 0, 1, 0.9575, 0.9163, 0.9797, 0.9605, 0.9379\n",
    "#0, 0, 1, 0, 0, 1, 0, 1, 1, 0.9619, 0.9372, 0.9752, 0.9532, 0.9451\n",
    "#0, 0, 1, 0, 0, 0, 1, 1, 1, 0.9517, 0.9121, 0.9730, 0.9478, 0.9296\n",
    "#0, 0, 0, 1, 1, 1, 1, 0, 0, 0.9575, 0.9791, 0.9459, 0.9070, 0.9416\n",
    "\n",
    "\n",
    "#The first 9 columns indicate whether each of the 9 features was included in the model\n",
    "#generation (1=yes, 0=no), and the subsequent five columns are the accuracy scores. Try\n",
    "#to generate at least 20 distinct models. In fact, if you are ambitious, you can generate\n",
    "#all 29 - 1 = 511 models by considering every possible subset of the 9 feature attributes.\n",
    "#The python itertools library can be very helpful in this regard.\n",
    "\n",
    "import itertools\n",
    "\n",
    "\n",
    "# Use itertools product to generate all possible combinations of the 9 features\n",
    "feature_combinations = list(itertools.product([0, 1], repeat=9))\n",
    "\n",
    "# Randomly choose 20 combinartions of features and store them in a list\n",
    "import random\n",
    "\n",
    "random.seed(0)\n",
    "random_combinations = random.sample(feature_combinations, 20)\n",
    "\n",
    "# Create a list to store the results\n",
    "results = []\n",
    "\n",
    "# For each combination of features, create a model and store the results\n",
    "for combination in random_combinations:\n",
    "    # Create a list of the features to be used in the model\n",
    "    features = [i for i, x in enumerate(combination) if x == 1]\n",
    "    # Create a list of the features to be removed from the model\n",
    "    features_to_remove = [i for i, x in enumerate(combination) if x == 0]\n",
    "\n",
    "    # Create a copy of the dataframe to be used in the model\n",
    "    df_copy = df.copy()\n",
    "\n",
    "    # Remove the features that are not to be used in the model\n",
    "    df_copy.drop(df_copy.columns[features_to_remove], axis=1, inplace=True)\n",
    "\n",
    "    # Split the data into training and testing sets\n",
    "    train_data = df_copy.sample(frac=0.8, random_state=0)\n",
    "    test_data = df_copy.drop(train_data.index)\n",
    "\n",
    "    # Create the X and y arrays\n",
    "    train_X = train_data.iloc[:, :-1].values\n",
    "    train_y = train_data.iloc[:, -1].values\n",
    "    test_X = test_data.iloc[:, :-1].values\n",
    "    test_y = test_data.iloc[:, -1].values\n",
    "\n",
    "    # Train the model\n",
    "    w, mpe_list, acc_list = perceptron(train_data.values, 0.0001, 1000)\n",
    "\n",
    "    # Make predictions\n",
    "    ypred = predict(test_X, w)\n",
    "\n",
    "    # Calculate the metrics\n",
    "    accuracy, sensitivity, specificity, precision, f1 = metrics(test_y, ypred)\n",
    "\n",
    "    # Create a list of the results\n",
    "    result = list(combination) + [accuracy, sensitivity, specificity, precision, f1]\n",
    "\n",
    "    # Append the results to the results list\n",
    "    results.append(result)\n",
    "    \n"
   ]
  },
  {
   "cell_type": "code",
   "execution_count": 48,
   "metadata": {},
   "outputs": [
    {
     "data": {
      "image/png": "[encoded data removed]",
      "text/plain": [
       "<Figure size 432x288 with 1 Axes>"
      ]
     },
     "metadata": {
      "needs_background": "light"
     },
     "output_type": "display_data"
    }
   ],
   "source": [
    "#For the various models you generated, plot specificity (x-axis) vs. sensitivity (y-axis) for\n",
    "#each model. Given that we are building a model that will serve as a diagnostic tool to \n",
    "#identify malignant breast cancer tumors, identify your preferred model and in a few\n",
    "#sentences, justify your model selection.\n",
    "\n",
    "# Create a list to store the sensitivity and specificity values\n",
    "sensitivity_list = []\n",
    "specificity_list = []\n",
    "\n",
    "# For each model, append the sensitivity and specificity values to the lists\n",
    "for result in results:\n",
    "    sensitivity_list.append(result[10])\n",
    "    specificity_list.append(result[9])\n",
    "\n",
    "# Plot the sensitivity and specificity values\n",
    "plt.scatter(specificity_list, sensitivity_list)\n",
    "plt.title('Sensitivity vs. Specificity')\n",
    "plt.xlabel('Specificity')\n",
    "plt.ylabel('Sensitivity')\n",
    "plt.show()\n",
    "\n",
    "# The model with the highest sensitivity and specificity values is the model with the\n",
    "# following features: 0, 0, 1, 0, 0, 1, 1, 1, 0. This model has a sensitivity of 0.8870 and\n",
    "# a specificity of 0.9820. This model is preferred because it has the highest sensitivity\n",
    "# and specificity values. This means that it is the most accurate model. For breast cancer,\n",
    "# it is important to have a high sensitivity value because it means that the model is \n",
    "# able to identify the positive cases (malignant tumors) correctly. It is also important\n",
    "# to have a high specificity value because it means that the model is able to identify\n",
    "# the negative cases (benign tumors) correctly. This model has the highest sensitivity\n",
    "# and specificity values, so it is the best model for this dataset.\n",
    "\n"
   ]
  },
  {
   "cell_type": "code",
   "execution_count": null,
   "metadata": {},
   "outputs": [],
   "source": []
  }
 ],
 "metadata": {
  "kernelspec": {
   "display_name": "Python 3 (ipykernel)",
   "language": "python",
   "name": "python3"
  },
  "language_info": {
   "codemirror_mode": {
    "name": "ipython",
    "version": 3
   },
   "file_extension": ".py",
   "mimetype": "text/x-python",
   "name": "python",
   "nbconvert_exporter": "python",
   "pygments_lexer": "ipython3",
   "version": "3.9.4"
  },
  "vscode": {
   "interpreter": {
    "hash": "09543090bb2f5022a26356885747bcce2ef7e70663c49a3c58d27b8c09d9d6fc"
   }
  }
 },
 "nbformat": 4,
 "nbformat_minor": 2
}
